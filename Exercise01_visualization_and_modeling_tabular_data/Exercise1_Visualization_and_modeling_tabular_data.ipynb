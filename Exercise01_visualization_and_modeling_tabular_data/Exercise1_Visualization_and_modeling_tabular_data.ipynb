{
 "cells": [
  {
   "cell_type": "markdown",
   "metadata": {},
   "source": [
    "# A simple visualization and modeling exercise"
   ]
  },
  {
   "cell_type": "markdown",
   "metadata": {},
   "source": [
    "Read in the three files: clients.csv, loans.csv, payments.csv. These files are related by the following:\n",
    "1. The clients file is the parent of the loans file. Each client can have multiple distinct loans. The client_id column links the two files\n",
    "2. The loans file is the child of the clients file and the parent of the payments file. Each loan can have multiple distinct payments associated with it. The loan_id column links the two files."
   ]
  },
  {
   "cell_type": "markdown",
   "metadata": {},
   "source": [
    "With the above datasets, answer the following questions. Show the steps taken to produce your final answer."
   ]
  },
  {
   "cell_type": "code",
   "execution_count": 1,
   "metadata": {},
   "outputs": [],
   "source": [
    "import os\n",
    "import numpy as np\n",
    "import pandas as pd\n",
    "import matplotlib.pyplot as plt\n",
    "import datetime as dt"
   ]
  },
  {
   "cell_type": "code",
   "execution_count": 2,
   "metadata": {},
   "outputs": [],
   "source": [
    "data_folder = 'data'\n",
    "\n",
    "clients = pd.read_csv(os.path.join(data_folder, 'clients.csv'))\n",
    "loans = pd.read_csv(os.path.join(data_folder, \"loans.csv\"))\n",
    "payments = pd.read_csv(os.path.join(data_folder, \"payments.csv\"))"
   ]
  },
  {
   "cell_type": "markdown",
   "metadata": {},
   "source": [
    "First, we'll have a quick look at the structure of each dataframe to familiarize ourselves with the dataset"
   ]
  },
  {
   "cell_type": "code",
   "execution_count": 3,
   "metadata": {},
   "outputs": [
    {
     "data": {
      "text/html": [
       "<div>\n",
       "<style scoped>\n",
       "    .dataframe tbody tr th:only-of-type {\n",
       "        vertical-align: middle;\n",
       "    }\n",
       "\n",
       "    .dataframe tbody tr th {\n",
       "        vertical-align: top;\n",
       "    }\n",
       "\n",
       "    .dataframe thead th {\n",
       "        text-align: right;\n",
       "    }\n",
       "</style>\n",
       "<table border=\"1\" class=\"dataframe\">\n",
       "  <thead>\n",
       "    <tr style=\"text-align: right;\">\n",
       "      <th></th>\n",
       "      <th>client_id</th>\n",
       "      <th>joined</th>\n",
       "      <th>income</th>\n",
       "      <th>credit_score</th>\n",
       "    </tr>\n",
       "  </thead>\n",
       "  <tbody>\n",
       "    <tr>\n",
       "      <th>0</th>\n",
       "      <td>46109</td>\n",
       "      <td>2002-04-16</td>\n",
       "      <td>172677</td>\n",
       "      <td>527</td>\n",
       "    </tr>\n",
       "    <tr>\n",
       "      <th>1</th>\n",
       "      <td>49545</td>\n",
       "      <td>2007-11-14</td>\n",
       "      <td>104564</td>\n",
       "      <td>770</td>\n",
       "    </tr>\n",
       "    <tr>\n",
       "      <th>2</th>\n",
       "      <td>41480</td>\n",
       "      <td>2013-03-11</td>\n",
       "      <td>122607</td>\n",
       "      <td>585</td>\n",
       "    </tr>\n",
       "    <tr>\n",
       "      <th>3</th>\n",
       "      <td>46180</td>\n",
       "      <td>2001-11-06</td>\n",
       "      <td>43851</td>\n",
       "      <td>562</td>\n",
       "    </tr>\n",
       "    <tr>\n",
       "      <th>4</th>\n",
       "      <td>25707</td>\n",
       "      <td>2006-10-06</td>\n",
       "      <td>211422</td>\n",
       "      <td>621</td>\n",
       "    </tr>\n",
       "  </tbody>\n",
       "</table>\n",
       "</div>"
      ],
      "text/plain": [
       "   client_id      joined  income  credit_score\n",
       "0      46109  2002-04-16  172677           527\n",
       "1      49545  2007-11-14  104564           770\n",
       "2      41480  2013-03-11  122607           585\n",
       "3      46180  2001-11-06   43851           562\n",
       "4      25707  2006-10-06  211422           621"
      ]
     },
     "execution_count": 3,
     "metadata": {},
     "output_type": "execute_result"
    }
   ],
   "source": [
    "clients.head(5)"
   ]
  },
  {
   "cell_type": "code",
   "execution_count": 4,
   "metadata": {},
   "outputs": [
    {
     "data": {
      "text/html": [
       "<div>\n",
       "<style scoped>\n",
       "    .dataframe tbody tr th:only-of-type {\n",
       "        vertical-align: middle;\n",
       "    }\n",
       "\n",
       "    .dataframe tbody tr th {\n",
       "        vertical-align: top;\n",
       "    }\n",
       "\n",
       "    .dataframe thead th {\n",
       "        text-align: right;\n",
       "    }\n",
       "</style>\n",
       "<table border=\"1\" class=\"dataframe\">\n",
       "  <thead>\n",
       "    <tr style=\"text-align: right;\">\n",
       "      <th></th>\n",
       "      <th>client_id</th>\n",
       "      <th>loan_type</th>\n",
       "      <th>loan_amount</th>\n",
       "      <th>repaid</th>\n",
       "      <th>loan_id</th>\n",
       "      <th>loan_start</th>\n",
       "      <th>loan_end</th>\n",
       "      <th>rate</th>\n",
       "    </tr>\n",
       "  </thead>\n",
       "  <tbody>\n",
       "    <tr>\n",
       "      <th>0</th>\n",
       "      <td>46109</td>\n",
       "      <td>home</td>\n",
       "      <td>13672</td>\n",
       "      <td>0</td>\n",
       "      <td>10243</td>\n",
       "      <td>2002-04-16</td>\n",
       "      <td>2003-12-20</td>\n",
       "      <td>2.15</td>\n",
       "    </tr>\n",
       "    <tr>\n",
       "      <th>1</th>\n",
       "      <td>46109</td>\n",
       "      <td>credit</td>\n",
       "      <td>9794</td>\n",
       "      <td>0</td>\n",
       "      <td>10984</td>\n",
       "      <td>2003-10-21</td>\n",
       "      <td>2005-07-17</td>\n",
       "      <td>1.25</td>\n",
       "    </tr>\n",
       "    <tr>\n",
       "      <th>2</th>\n",
       "      <td>46109</td>\n",
       "      <td>home</td>\n",
       "      <td>12734</td>\n",
       "      <td>1</td>\n",
       "      <td>10990</td>\n",
       "      <td>2006-02-01</td>\n",
       "      <td>2007-07-05</td>\n",
       "      <td>0.68</td>\n",
       "    </tr>\n",
       "    <tr>\n",
       "      <th>3</th>\n",
       "      <td>46109</td>\n",
       "      <td>cash</td>\n",
       "      <td>12518</td>\n",
       "      <td>1</td>\n",
       "      <td>10596</td>\n",
       "      <td>2010-12-08</td>\n",
       "      <td>2013-05-05</td>\n",
       "      <td>1.24</td>\n",
       "    </tr>\n",
       "    <tr>\n",
       "      <th>4</th>\n",
       "      <td>46109</td>\n",
       "      <td>credit</td>\n",
       "      <td>14049</td>\n",
       "      <td>1</td>\n",
       "      <td>11415</td>\n",
       "      <td>2010-07-07</td>\n",
       "      <td>2012-05-21</td>\n",
       "      <td>3.13</td>\n",
       "    </tr>\n",
       "  </tbody>\n",
       "</table>\n",
       "</div>"
      ],
      "text/plain": [
       "   client_id loan_type  loan_amount  repaid  loan_id  loan_start    loan_end  \\\n",
       "0      46109      home        13672       0    10243  2002-04-16  2003-12-20   \n",
       "1      46109    credit         9794       0    10984  2003-10-21  2005-07-17   \n",
       "2      46109      home        12734       1    10990  2006-02-01  2007-07-05   \n",
       "3      46109      cash        12518       1    10596  2010-12-08  2013-05-05   \n",
       "4      46109    credit        14049       1    11415  2010-07-07  2012-05-21   \n",
       "\n",
       "   rate  \n",
       "0  2.15  \n",
       "1  1.25  \n",
       "2  0.68  \n",
       "3  1.24  \n",
       "4  3.13  "
      ]
     },
     "execution_count": 4,
     "metadata": {},
     "output_type": "execute_result"
    }
   ],
   "source": [
    "loans.head()"
   ]
  },
  {
   "cell_type": "code",
   "execution_count": 5,
   "metadata": {},
   "outputs": [
    {
     "data": {
      "text/html": [
       "<div>\n",
       "<style scoped>\n",
       "    .dataframe tbody tr th:only-of-type {\n",
       "        vertical-align: middle;\n",
       "    }\n",
       "\n",
       "    .dataframe tbody tr th {\n",
       "        vertical-align: top;\n",
       "    }\n",
       "\n",
       "    .dataframe thead th {\n",
       "        text-align: right;\n",
       "    }\n",
       "</style>\n",
       "<table border=\"1\" class=\"dataframe\">\n",
       "  <thead>\n",
       "    <tr style=\"text-align: right;\">\n",
       "      <th></th>\n",
       "      <th>loan_id</th>\n",
       "      <th>payment_amount</th>\n",
       "      <th>payment_date</th>\n",
       "      <th>missed</th>\n",
       "    </tr>\n",
       "  </thead>\n",
       "  <tbody>\n",
       "    <tr>\n",
       "      <th>0</th>\n",
       "      <td>10243</td>\n",
       "      <td>2369</td>\n",
       "      <td>2002-05-31</td>\n",
       "      <td>1</td>\n",
       "    </tr>\n",
       "    <tr>\n",
       "      <th>1</th>\n",
       "      <td>10243</td>\n",
       "      <td>2439</td>\n",
       "      <td>2002-06-18</td>\n",
       "      <td>1</td>\n",
       "    </tr>\n",
       "    <tr>\n",
       "      <th>2</th>\n",
       "      <td>10243</td>\n",
       "      <td>2662</td>\n",
       "      <td>2002-06-29</td>\n",
       "      <td>0</td>\n",
       "    </tr>\n",
       "    <tr>\n",
       "      <th>3</th>\n",
       "      <td>10243</td>\n",
       "      <td>2268</td>\n",
       "      <td>2002-07-20</td>\n",
       "      <td>0</td>\n",
       "    </tr>\n",
       "    <tr>\n",
       "      <th>4</th>\n",
       "      <td>10243</td>\n",
       "      <td>2027</td>\n",
       "      <td>2002-07-31</td>\n",
       "      <td>1</td>\n",
       "    </tr>\n",
       "  </tbody>\n",
       "</table>\n",
       "</div>"
      ],
      "text/plain": [
       "   loan_id  payment_amount payment_date  missed\n",
       "0    10243            2369   2002-05-31       1\n",
       "1    10243            2439   2002-06-18       1\n",
       "2    10243            2662   2002-06-29       0\n",
       "3    10243            2268   2002-07-20       0\n",
       "4    10243            2027   2002-07-31       1"
      ]
     },
     "execution_count": 5,
     "metadata": {},
     "output_type": "execute_result"
    }
   ],
   "source": [
    "payments.head()"
   ]
  },
  {
   "cell_type": "code",
   "execution_count": 6,
   "metadata": {},
   "outputs": [],
   "source": [
    "#converting date columns to datetime type\n",
    "clients['joined'] = pd.to_datetime(clients['joined'])\n",
    "loans['loan_start'] = pd.to_datetime(loans['loan_start'])\n",
    "loans['loan_end'] = pd.to_datetime(loans['loan_end'])\n",
    "payments['payment_date'] = pd.to_datetime(payments['payment_date'])"
   ]
  },
  {
   "cell_type": "markdown",
   "metadata": {},
   "source": [
    "# Section 1 Questions"
   ]
  },
  {
   "cell_type": "markdown",
   "metadata": {},
   "source": [
    "1. Give the 5 client IDs with the highest mean payment amount\n",
    "2. How many unique loans have been given out to clients who joined prior to 2001?\n",
    "3. What is the mean number of payments missed by clients with a credit score of less than 700 and who have missed more than 50 payments?"
   ]
  },
  {
   "cell_type": "markdown",
   "metadata": {},
   "source": [
    "#### Q1: 5 client IDs with the highest mean payment amount"
   ]
  },
  {
   "cell_type": "code",
   "execution_count": 7,
   "metadata": {},
   "outputs": [
    {
     "data": {
      "text/html": [
       "<div>\n",
       "<style scoped>\n",
       "    .dataframe tbody tr th:only-of-type {\n",
       "        vertical-align: middle;\n",
       "    }\n",
       "\n",
       "    .dataframe tbody tr th {\n",
       "        vertical-align: top;\n",
       "    }\n",
       "\n",
       "    .dataframe thead th {\n",
       "        text-align: right;\n",
       "    }\n",
       "</style>\n",
       "<table border=\"1\" class=\"dataframe\">\n",
       "  <thead>\n",
       "    <tr style=\"text-align: right;\">\n",
       "      <th></th>\n",
       "      <th>client_id</th>\n",
       "      <th>joined</th>\n",
       "      <th>income</th>\n",
       "      <th>credit_score</th>\n",
       "      <th>loan_type</th>\n",
       "      <th>loan_amount</th>\n",
       "      <th>repaid</th>\n",
       "      <th>loan_id</th>\n",
       "      <th>loan_start</th>\n",
       "      <th>loan_end</th>\n",
       "      <th>rate</th>\n",
       "      <th>payment_amount</th>\n",
       "      <th>payment_date</th>\n",
       "      <th>missed</th>\n",
       "    </tr>\n",
       "  </thead>\n",
       "  <tbody>\n",
       "    <tr>\n",
       "      <th>0</th>\n",
       "      <td>46109</td>\n",
       "      <td>2002-04-16</td>\n",
       "      <td>172677</td>\n",
       "      <td>527</td>\n",
       "      <td>home</td>\n",
       "      <td>13672</td>\n",
       "      <td>0</td>\n",
       "      <td>10243</td>\n",
       "      <td>2002-04-16</td>\n",
       "      <td>2003-12-20</td>\n",
       "      <td>2.15</td>\n",
       "      <td>2369</td>\n",
       "      <td>2002-05-31</td>\n",
       "      <td>1</td>\n",
       "    </tr>\n",
       "    <tr>\n",
       "      <th>1</th>\n",
       "      <td>46109</td>\n",
       "      <td>2002-04-16</td>\n",
       "      <td>172677</td>\n",
       "      <td>527</td>\n",
       "      <td>home</td>\n",
       "      <td>13672</td>\n",
       "      <td>0</td>\n",
       "      <td>10243</td>\n",
       "      <td>2002-04-16</td>\n",
       "      <td>2003-12-20</td>\n",
       "      <td>2.15</td>\n",
       "      <td>2439</td>\n",
       "      <td>2002-06-18</td>\n",
       "      <td>1</td>\n",
       "    </tr>\n",
       "    <tr>\n",
       "      <th>2</th>\n",
       "      <td>46109</td>\n",
       "      <td>2002-04-16</td>\n",
       "      <td>172677</td>\n",
       "      <td>527</td>\n",
       "      <td>home</td>\n",
       "      <td>13672</td>\n",
       "      <td>0</td>\n",
       "      <td>10243</td>\n",
       "      <td>2002-04-16</td>\n",
       "      <td>2003-12-20</td>\n",
       "      <td>2.15</td>\n",
       "      <td>2662</td>\n",
       "      <td>2002-06-29</td>\n",
       "      <td>0</td>\n",
       "    </tr>\n",
       "    <tr>\n",
       "      <th>3</th>\n",
       "      <td>46109</td>\n",
       "      <td>2002-04-16</td>\n",
       "      <td>172677</td>\n",
       "      <td>527</td>\n",
       "      <td>home</td>\n",
       "      <td>13672</td>\n",
       "      <td>0</td>\n",
       "      <td>10243</td>\n",
       "      <td>2002-04-16</td>\n",
       "      <td>2003-12-20</td>\n",
       "      <td>2.15</td>\n",
       "      <td>2268</td>\n",
       "      <td>2002-07-20</td>\n",
       "      <td>0</td>\n",
       "    </tr>\n",
       "    <tr>\n",
       "      <th>4</th>\n",
       "      <td>46109</td>\n",
       "      <td>2002-04-16</td>\n",
       "      <td>172677</td>\n",
       "      <td>527</td>\n",
       "      <td>home</td>\n",
       "      <td>13672</td>\n",
       "      <td>0</td>\n",
       "      <td>10243</td>\n",
       "      <td>2002-04-16</td>\n",
       "      <td>2003-12-20</td>\n",
       "      <td>2.15</td>\n",
       "      <td>2027</td>\n",
       "      <td>2002-07-31</td>\n",
       "      <td>1</td>\n",
       "    </tr>\n",
       "  </tbody>\n",
       "</table>\n",
       "</div>"
      ],
      "text/plain": [
       "   client_id     joined  income  credit_score loan_type  loan_amount  repaid  \\\n",
       "0      46109 2002-04-16  172677           527      home        13672       0   \n",
       "1      46109 2002-04-16  172677           527      home        13672       0   \n",
       "2      46109 2002-04-16  172677           527      home        13672       0   \n",
       "3      46109 2002-04-16  172677           527      home        13672       0   \n",
       "4      46109 2002-04-16  172677           527      home        13672       0   \n",
       "\n",
       "   loan_id loan_start   loan_end  rate  payment_amount payment_date  missed  \n",
       "0    10243 2002-04-16 2003-12-20  2.15            2369   2002-05-31       1  \n",
       "1    10243 2002-04-16 2003-12-20  2.15            2439   2002-06-18       1  \n",
       "2    10243 2002-04-16 2003-12-20  2.15            2662   2002-06-29       0  \n",
       "3    10243 2002-04-16 2003-12-20  2.15            2268   2002-07-20       0  \n",
       "4    10243 2002-04-16 2003-12-20  2.15            2027   2002-07-31       1  "
      ]
     },
     "execution_count": 7,
     "metadata": {},
     "output_type": "execute_result"
    }
   ],
   "source": [
    "temp_df = pd.merge(clients, loans, on = \"client_id\")\n",
    "merged_df = pd.merge(temp_df, payments, on = \"loan_id\")\n",
    "\n",
    "merged_df.head(5)"
   ]
  },
  {
   "cell_type": "code",
   "execution_count": 8,
   "metadata": {},
   "outputs": [
    {
     "name": "stdout",
     "output_type": "stream",
     "text": [
      "Q1 answer (5 clients with the highest mean payment amount): [49545, 29841, 49624, 32885, 46109]\n"
     ]
    }
   ],
   "source": [
    "ans_q1 = merged_df[[\"client_id\",\"payment_amount\"]].groupby(\"client_id\").mean().sort_values(\n",
    "    by = 'payment_amount', ascending = False)\n",
    "\n",
    "print('Q1 answer (5 clients with the highest mean payment amount):', list(ans_q1.head().index))"
   ]
  },
  {
   "cell_type": "markdown",
   "metadata": {},
   "source": [
    "#### Q2:How many unique loans have been given out to clients who joined prior to 2001?"
   ]
  },
  {
   "cell_type": "code",
   "execution_count": 9,
   "metadata": {},
   "outputs": [
    {
     "name": "stdout",
     "output_type": "stream",
     "text": [
      "Q2 answer: 49\n"
     ]
    }
   ],
   "source": [
    "print('Q2 answer:', len(merged_df['loan_id'][merged_df['joined'] < '2001-1-1'].unique()))"
   ]
  },
  {
   "cell_type": "markdown",
   "metadata": {},
   "source": [
    "#### Q3: What is the mean number of payments missed by clients with a credit score of less than 700 and who have missed more than 50 payments?"
   ]
  },
  {
   "cell_type": "code",
   "execution_count": 10,
   "metadata": {},
   "outputs": [
    {
     "name": "stdout",
     "output_type": "stream",
     "text": [
      "Q3 answer: 69.25\n"
     ]
    }
   ],
   "source": [
    "ans_q3 = merged_df[(merged_df['missed'] == 1) \n",
    "                                   & (merged_df['credit_score'] < 700)].groupby('client_id').size()\n",
    "\n",
    "print('Q3 answer:', ans_q3.where(ans_q3 > 50).mean())"
   ]
  },
  {
   "cell_type": "markdown",
   "metadata": {},
   "source": [
    "# Section 2 Questions"
   ]
  },
  {
   "cell_type": "markdown",
   "metadata": {},
   "source": [
    "Create the following visualizations:\n",
    "    \n",
    "1. Create a histogram of the payment amounts. Briefly describe the distribution.\n",
    "2. Produce a line plot the cumulative sum of the number of clients by year.\n",
    "3. Produce a scatter plot of the percentage of payments missed in december for each year in the dataset."
   ]
  },
  {
   "cell_type": "markdown",
   "metadata": {},
   "source": [
    "#### Q1: Create a histogram of the payment amounts. Briefly describe the distribution."
   ]
  },
  {
   "cell_type": "code",
   "execution_count": 11,
   "metadata": {},
   "outputs": [
    {
     "data": {
      "text/plain": [
       "Text(0.5, 0, 'Payment amount')"
      ]
     },
     "execution_count": 11,
     "metadata": {},
     "output_type": "execute_result"
    },
    {
     "data": {
      "image/png": "[encoded data removed]",
      "text/plain": [
       "<Figure size 432x288 with 1 Axes>"
      ]
     },
     "metadata": {
      "needs_background": "light"
     },
     "output_type": "display_data"
    }
   ],
   "source": [
    "plt.hist(payments['payment_amount'], bins = 40)\n",
    "plt.xlabel('Payment amount')"
   ]
  },
  {
   "cell_type": "markdown",
   "metadata": {},
   "source": [
    "As we can see from the histogram above, the typical payment amount is in the 250-1750 range, with the extreme right part of the distribution almost reaching 3000"
   ]
  },
  {
   "cell_type": "markdown",
   "metadata": {},
   "source": [
    "#### Q2: Produce a line plot the cumulative sum of the number of clients by year.\n",
    "Note: the question is a bit ambiguous, the 'number of clients' could refer either to the number of clients who joined on a given year (clients['joined'] column), or to the active number of clients (e.g. receiving loans, making payments) during the year. We will assume the former."
   ]
  },
  {
   "cell_type": "code",
   "execution_count": 12,
   "metadata": {},
   "outputs": [],
   "source": [
    "clients.sort_values(by = 'joined', inplace = True)\n",
    "#clients['joined_year'] = clients['joined'].apply(lambda x: x.year)\n",
    "#clients['joined_year'] = clients['joined'].dt.year\n",
    "ans_q2s2 = clients.groupby(clients['joined'].dt.year).size()"
   ]
  },
  {
   "cell_type": "code",
   "execution_count": 13,
   "metadata": {},
   "outputs": [
    {
     "data": {
      "image/png": "[encoded data removed]",
      "text/plain": [
       "<Figure size 432x288 with 1 Axes>"
      ]
     },
     "metadata": {
      "needs_background": "light"
     },
     "output_type": "display_data"
    }
   ],
   "source": [
    "plt.plot(ans_q2s2.index, ans_q2s2.cumsum(), color = 'r')\n",
    "plt.xlabel(\"Year joined\")\n",
    "plt.ylabel(\"Cumulative number of clients\")\n",
    "plt.grid(linestyle=\"-\")"
   ]
  },
  {
   "cell_type": "markdown",
   "metadata": {},
   "source": [
    "#### Q3: Produce a scatter plot of the percentage of payments missed in december for each year in the dataset.\n",
    "Note: the question is a bit ambiguous, the 'percentage of payments missed in december' may refer to:\n",
    "\n",
    "* the number of payments missed in Dec / total number of payments in Dec\n",
    "* the number of payments missed in Dec / number of payments missed throughout the whole year\n",
    "\n",
    "###### We will calculate both, and refer to them as v1 and v2 respectively"
   ]
  },
  {
   "cell_type": "code",
   "execution_count": 14,
   "metadata": {},
   "outputs": [
    {
     "data": {
      "text/plain": [
       "Text(0.5, 1.0, '% of payments missed in December - Version1 \\n (# of payments missed in Dec / total # of payments in Dec )')"
      ]
     },
     "execution_count": 14,
     "metadata": {},
     "output_type": "execute_result"
    },
    {
     "data": {
      "image/png": "[encoded data removed]",
      "text/plain": [
       "<Figure size 432x288 with 1 Axes>"
      ]
     },
     "metadata": {
      "needs_background": "light"
     },
     "output_type": "display_data"
    }
   ],
   "source": [
    "dec_subset = payments[payments['payment_date'].dt.month == 12]\n",
    "\n",
    "temp = dec_subset.groupby([dec_subset['payment_date'].dt.year, dec_subset['missed']]).size()\n",
    "ans_q3s2_v1 = 100 * temp[:,1] / (temp[:,0] + temp[:,1]) #in percents, \"missed\" / (\"not missed\" + missed\")\n",
    "plt.scatter(ans_q3s2_v1.index, ans_q3s2_v1, color = 'r')\n",
    "plt.xlabel('Payment year')\n",
    "plt.ylabel('% of payments missed')\n",
    "plt.title('% of payments missed in December - Version1 \\n \\\n",
    "(# of payments missed in Dec / total # of payments in Dec )')"
   ]
  },
  {
   "cell_type": "code",
   "execution_count": 15,
   "metadata": {},
   "outputs": [],
   "source": [
    "dec_missed_subset = dec_subset[dec_subset['missed'] == 1]\n",
    "all_missed_subset = payments[payments['missed'] == 1]\n",
    "temp_all = all_missed_subset.groupby([all_missed_subset['payment_date'].dt.year]).size()\n",
    "temp_dec = dec_missed_subset.groupby([dec_missed_subset['payment_date'].dt.year]).size()\n",
    "\n",
    "ans_q3s2_v2 = 100 * temp_dec / temp_all # in percents"
   ]
  },
  {
   "cell_type": "code",
   "execution_count": 16,
   "metadata": {},
   "outputs": [
    {
     "data": {
      "text/plain": [
       "Text(0.5, 1.0, '% of payments missed in December - Version2 \\n (# of payments missed in Dec / yearly # of payments missed )')"
      ]
     },
     "execution_count": 16,
     "metadata": {},
     "output_type": "execute_result"
    },
    {
     "data": {
      "image/png": "[encoded data removed]",
      "text/plain": [
       "<Figure size 432x288 with 1 Axes>"
      ]
     },
     "metadata": {
      "needs_background": "light"
     },
     "output_type": "display_data"
    }
   ],
   "source": [
    "plt.scatter(ans_q3s2_v2.index, ans_q3s2_v2, color = 'r')\n",
    "plt.xlabel('Payment year')\n",
    "plt.ylabel('% of payments missed')\n",
    "plt.title('% of payments missed in December - Version2 \\n \\\n",
    "(# of payments missed in Dec / yearly # of payments missed )')"
   ]
  },
  {
   "cell_type": "markdown",
   "metadata": {},
   "source": [
    "# Section 3 - Modelling"
   ]
  },
  {
   "cell_type": "markdown",
   "metadata": {},
   "source": [
    "Create a model that will predict whether a person does or does not have diabetes. Use the diabetes.csv dataset. The target column in the dataset is \"Outcome\". Assume no features leak information about the target.\n",
    "\n",
    "Your solution should include the below. You may use whichever python libraries you wish to complete the task:\n",
    "1. Feature engineering\n",
    "2. Model fitting and performance evaluation\n",
    "3. A function that takes as arguments: a model, train data, test data, and returns the model's predictions on the test data\n",
    "4. A function that takes a set of predictions and true values and that validates the predictions using appropriate metrics\n",
    "5. Anything else you feel is necessary for modelling or improving the performance of your model\n"
   ]
  },
  {
   "cell_type": "code",
   "execution_count": 17,
   "metadata": {},
   "outputs": [
    {
     "data": {
      "text/html": [
       "<div>\n",
       "<style scoped>\n",
       "    .dataframe tbody tr th:only-of-type {\n",
       "        vertical-align: middle;\n",
       "    }\n",
       "\n",
       "    .dataframe tbody tr th {\n",
       "        vertical-align: top;\n",
       "    }\n",
       "\n",
       "    .dataframe thead th {\n",
       "        text-align: right;\n",
       "    }\n",
       "</style>\n",
       "<table border=\"1\" class=\"dataframe\">\n",
       "  <thead>\n",
       "    <tr style=\"text-align: right;\">\n",
       "      <th></th>\n",
       "      <th>Pregnancies</th>\n",
       "      <th>Glucose</th>\n",
       "      <th>BloodPressure</th>\n",
       "      <th>SkinThickness</th>\n",
       "      <th>Insulin</th>\n",
       "      <th>BMI</th>\n",
       "      <th>DiabetesPedigreeFunction</th>\n",
       "      <th>Age</th>\n",
       "      <th>Outcome</th>\n",
       "    </tr>\n",
       "  </thead>\n",
       "  <tbody>\n",
       "    <tr>\n",
       "      <th>0</th>\n",
       "      <td>NaN</td>\n",
       "      <td>148.0</td>\n",
       "      <td>72.0</td>\n",
       "      <td>35.0</td>\n",
       "      <td>0</td>\n",
       "      <td>33.6</td>\n",
       "      <td>0.627</td>\n",
       "      <td>50.0</td>\n",
       "      <td>1</td>\n",
       "    </tr>\n",
       "    <tr>\n",
       "      <th>1</th>\n",
       "      <td>1.0</td>\n",
       "      <td>85.0</td>\n",
       "      <td>66.0</td>\n",
       "      <td>29.0</td>\n",
       "      <td>0</td>\n",
       "      <td>26.6</td>\n",
       "      <td>0.351</td>\n",
       "      <td>31.0</td>\n",
       "      <td>0</td>\n",
       "    </tr>\n",
       "    <tr>\n",
       "      <th>2</th>\n",
       "      <td>8.0</td>\n",
       "      <td>183.0</td>\n",
       "      <td>64.0</td>\n",
       "      <td>0.0</td>\n",
       "      <td>0</td>\n",
       "      <td>23.3</td>\n",
       "      <td>0.672</td>\n",
       "      <td>32.0</td>\n",
       "      <td>1</td>\n",
       "    </tr>\n",
       "    <tr>\n",
       "      <th>3</th>\n",
       "      <td>1.0</td>\n",
       "      <td>89.0</td>\n",
       "      <td>66.0</td>\n",
       "      <td>23.0</td>\n",
       "      <td>94</td>\n",
       "      <td>28.1</td>\n",
       "      <td>0.167</td>\n",
       "      <td>21.0</td>\n",
       "      <td>0</td>\n",
       "    </tr>\n",
       "    <tr>\n",
       "      <th>4</th>\n",
       "      <td>0.0</td>\n",
       "      <td>NaN</td>\n",
       "      <td>40.0</td>\n",
       "      <td>35.0</td>\n",
       "      <td>168</td>\n",
       "      <td>43.1</td>\n",
       "      <td>2.288</td>\n",
       "      <td>NaN</td>\n",
       "      <td>1</td>\n",
       "    </tr>\n",
       "  </tbody>\n",
       "</table>\n",
       "</div>"
      ],
      "text/plain": [
       "   Pregnancies  Glucose  BloodPressure  SkinThickness Insulin   BMI  \\\n",
       "0          NaN    148.0           72.0           35.0       0  33.6   \n",
       "1          1.0     85.0           66.0           29.0       0  26.6   \n",
       "2          8.0    183.0           64.0            0.0       0  23.3   \n",
       "3          1.0     89.0           66.0           23.0      94  28.1   \n",
       "4          0.0      NaN           40.0           35.0     168  43.1   \n",
       "\n",
       "   DiabetesPedigreeFunction   Age Outcome  \n",
       "0                     0.627  50.0       1  \n",
       "1                     0.351  31.0       0  \n",
       "2                     0.672  32.0       1  \n",
       "3                     0.167  21.0       0  \n",
       "4                     2.288   NaN       1  "
      ]
     },
     "execution_count": 17,
     "metadata": {},
     "output_type": "execute_result"
    }
   ],
   "source": [
    "diabetes = pd.read_csv(os.path.join(data_folder, \"test_diabetes.csv\"), delimiter = \";\")\n",
    "diabetes.head()"
   ]
  },
  {
   "cell_type": "code",
   "execution_count": 18,
   "metadata": {},
   "outputs": [
    {
     "name": "stdout",
     "output_type": "stream",
     "text": [
      "Number of rows: 768\n",
      "\n",
      "Column data types:\n",
      " Pregnancies                 float64\n",
      "Glucose                     float64\n",
      "BloodPressure               float64\n",
      "SkinThickness               float64\n",
      "Insulin                      object\n",
      "BMI                         float64\n",
      "DiabetesPedigreeFunction    float64\n",
      "Age                         float64\n",
      "Outcome                      object\n",
      "dtype: object\n"
     ]
    },
    {
     "data": {
      "text/plain": [
       "Pregnancies                 37\n",
       "Glucose                     38\n",
       "BloodPressure               34\n",
       "SkinThickness               34\n",
       "Insulin                     51\n",
       "BMI                         35\n",
       "DiabetesPedigreeFunction    40\n",
       "Age                         51\n",
       "Outcome                      0\n",
       "dtype: int64"
      ]
     },
     "execution_count": 18,
     "metadata": {},
     "output_type": "execute_result"
    }
   ],
   "source": [
    "print('Number of rows:', len(diabetes))\n",
    "print('\\nColumn data types:\\n', diabetes.dtypes)\n",
    "diabetes.isna().sum()"
   ]
  },
  {
   "cell_type": "markdown",
   "metadata": {},
   "source": [
    "\"Insulin\" and \"Diabetes\" columns are object types - they may require some data filtering and/or cleaning. We will also need to deal with null values, looks like a typical column has around 35-50 of them, or ~5% of total row count"
   ]
  },
  {
   "cell_type": "code",
   "execution_count": 19,
   "metadata": {},
   "outputs": [
    {
     "name": "stdout",
     "output_type": "stream",
     "text": [
      "503\n"
     ]
    }
   ],
   "source": [
    "diab_clean = diabetes.dropna()\n",
    "print(len(diab_clean))"
   ]
  },
  {
   "cell_type": "markdown",
   "metadata": {},
   "source": [
    "If we drop all null-containing rows, we still get to keep ~2/3 of the data. We'll consider it acceptable for this task for now; an alternative way of dealing with nulls would be to fill them with mean column values"
   ]
  },
  {
   "cell_type": "code",
   "execution_count": 20,
   "metadata": {},
   "outputs": [
    {
     "data": {
      "text/plain": [
       "array(['0', '94', '88', '543', 'Zero', '230', '96', '235', '115', '245',\n",
       "       '54', '207', '70', '240', '82', '36', '23', '300', '342', '110',\n",
       "       '128', '90', '140', '270', '71', '125', '176', '48', '64', '228',\n",
       "       '76', '220', '152', '18', '135', '495', '37', '175', '51', '100',\n",
       "       '99', '145', '168', '49', '92', '325', '63', '119', '155', '485',\n",
       "       '53', '114', '156', '78', '55', '130', '58', '210', '318', '190',\n",
       "       '280', '271', '120', '56', '32', '194', '680', '402', '258', '375',\n",
       "       '150', '67', '45', '116', '122', '75', '40', '74', '360', '215',\n",
       "       '184', '105', '180', '205', '148', '85', '68', '52', '255', '171',\n",
       "       '108', '83', '167', '249', '293', '465', '89', '66', '158', '84',\n",
       "       '72', '182', '81', '196', '415', '87', '310', '61', '474', '170',\n",
       "       '277', '60', '50', '14', '237', '191', '328', '250', '265', '193',\n",
       "       '86', '165', '326', '188', '225', '166', '44', '330', '185', '126',\n",
       "       '41', '321', '144', '183', '91', '46', '440', '159', '106', '77',\n",
       "       '200', '231', '480', '335', '160', '387', '22', '291', '392',\n",
       "       '178', '79', '57', '510', '16', '112'], dtype=object)"
      ]
     },
     "execution_count": 20,
     "metadata": {},
     "output_type": "execute_result"
    }
   ],
   "source": [
    "diab_clean['Insulin'].unique()"
   ]
  },
  {
   "cell_type": "code",
   "execution_count": 21,
   "metadata": {},
   "outputs": [],
   "source": [
    "pd.options.mode.chained_assignment = None # we'll hide this unnecessary warning\n",
    "diab_clean['Insulin'] = diab_clean['Insulin'].apply(lambda x: int(x) if x != 'Zero' else 0)"
   ]
  },
  {
   "cell_type": "code",
   "execution_count": 22,
   "metadata": {},
   "outputs": [
    {
     "data": {
      "text/plain": [
       "array([  0,  94,  88, 543, 230,  96, 235, 115, 245,  54, 207,  70, 240,\n",
       "        82,  36,  23, 300, 342, 110, 128,  90, 140, 270,  71, 125, 176,\n",
       "        48,  64, 228,  76, 220, 152,  18, 135, 495,  37, 175,  51, 100,\n",
       "        99, 145, 168,  49,  92, 325,  63, 119, 155, 485,  53, 114, 156,\n",
       "        78,  55, 130,  58, 210, 318, 190, 280, 271, 120,  56,  32, 194,\n",
       "       680, 402, 258, 375, 150,  67,  45, 116, 122,  75,  40,  74, 360,\n",
       "       215, 184, 105, 180, 205, 148,  85,  68,  52, 255, 171, 108,  83,\n",
       "       167, 249, 293, 465,  89,  66, 158,  84,  72, 182,  81, 196, 415,\n",
       "        87, 310,  61, 474, 170, 277,  60,  50,  14, 237, 191, 328, 250,\n",
       "       265, 193,  86, 165, 326, 188, 225, 166,  44, 330, 185, 126,  41,\n",
       "       321, 144, 183,  91,  46, 440, 159, 106,  77, 200, 231, 480, 335,\n",
       "       160, 387,  22, 291, 392, 178,  79,  57, 510,  16, 112])"
      ]
     },
     "execution_count": 22,
     "metadata": {},
     "output_type": "execute_result"
    }
   ],
   "source": [
    "diab_clean['Insulin'].unique()"
   ]
  },
  {
   "cell_type": "markdown",
   "metadata": {},
   "source": [
    "Similar data cleanup for the 'Outcome' column:"
   ]
  },
  {
   "cell_type": "code",
   "execution_count": 23,
   "metadata": {},
   "outputs": [
    {
     "data": {
      "text/plain": [
       "array(['0', '1', 'N', 'Y'], dtype=object)"
      ]
     },
     "execution_count": 23,
     "metadata": {},
     "output_type": "execute_result"
    }
   ],
   "source": [
    "diab_clean['Outcome'].unique()"
   ]
  },
  {
   "cell_type": "code",
   "execution_count": 24,
   "metadata": {},
   "outputs": [
    {
     "data": {
      "text/plain": [
       "array([False,  True])"
      ]
     },
     "execution_count": 24,
     "metadata": {},
     "output_type": "execute_result"
    }
   ],
   "source": [
    "temp_dict = {'0' : False, 'N' : False, '1': True, 'Y' : True}\n",
    "diab_clean['Outcome'].replace(temp_dict, inplace = True)\n",
    "diab_clean['Outcome'].unique()"
   ]
  },
  {
   "cell_type": "code",
   "execution_count": 25,
   "metadata": {},
   "outputs": [
    {
     "name": "stdout",
     "output_type": "stream",
     "text": [
      "Number of rows: 503\n",
      "\n",
      "Column data types:\n",
      " Pregnancies                 float64\n",
      "Glucose                     float64\n",
      "BloodPressure               float64\n",
      "SkinThickness               float64\n",
      "Insulin                       int64\n",
      "BMI                         float64\n",
      "DiabetesPedigreeFunction    float64\n",
      "Age                         float64\n",
      "Outcome                        bool\n",
      "dtype: object\n"
     ]
    },
    {
     "data": {
      "text/plain": [
       "Pregnancies                 0\n",
       "Glucose                     0\n",
       "BloodPressure               0\n",
       "SkinThickness               0\n",
       "Insulin                     0\n",
       "BMI                         0\n",
       "DiabetesPedigreeFunction    0\n",
       "Age                         0\n",
       "Outcome                     0\n",
       "dtype: int64"
      ]
     },
     "execution_count": 25,
     "metadata": {},
     "output_type": "execute_result"
    }
   ],
   "source": [
    "print('Number of rows:', len(diab_clean))\n",
    "print('\\nColumn data types:\\n', diab_clean.dtypes)\n",
    "diab_clean.isna().sum()"
   ]
  },
  {
   "cell_type": "markdown",
   "metadata": {},
   "source": [
    "Now that we're done with basic data cleaning, we'll check dataset for nonsensical values and check distribution shapes"
   ]
  },
  {
   "cell_type": "code",
   "execution_count": 26,
   "metadata": {},
   "outputs": [
    {
     "data": {
      "image/png": "[encoded data removed]",
      "text/plain": [
       "<Figure size 1080x360 with 8 Axes>"
      ]
     },
     "metadata": {
      "needs_background": "light"
     },
     "output_type": "display_data"
    }
   ],
   "source": [
    "col_list = list(diab_clean)[:-1]\n",
    "\n",
    "plt.figure(figsize=(15,5))\n",
    "\n",
    "for ind, col in enumerate(col_list):\n",
    "    plt.subplot(2, 4, ind + 1)\n",
    "    plt.hist(diab_clean[col], bins = 40)\n",
    "    plt.xlabel(col)\n",
    "    plt.grid(linestyle = \"-\")\n",
    "    plt.tight_layout()"
   ]
  },
  {
   "cell_type": "code",
   "execution_count": 27,
   "metadata": {},
   "outputs": [
    {
     "data": {
      "text/plain": [
       "array([29.,  0., 23., 32., 45., 47., 30., 41., 35., 26., 36., 11., 31.,\n",
       "       37., 42., 25., 18., 24., 39., 27., 15., 21., 34., 10., 60., 20.,\n",
       "       22., 54., 19., 40., 51., 33., 56., 14., 13., 28., 38., 12., 46.,\n",
       "       44.,  7., 16., 50., 43., 48.,  8., 63., 17., 49., 99.])"
      ]
     },
     "execution_count": 27,
     "metadata": {},
     "output_type": "execute_result"
    }
   ],
   "source": [
    "diab_clean['SkinThickness'].unique()"
   ]
  },
  {
   "cell_type": "code",
   "execution_count": 28,
   "metadata": {},
   "outputs": [
    {
     "data": {
      "text/plain": [
       "array([ 31.,  32.,  21.,  26.,  53.,  30.,  34.,  57.,  27.,  50.,  41.,\n",
       "        29.,  43.,  38.,  28.,  22.,  45.,  35.,  46.,  56.,  48.,  54.,\n",
       "        40.,  25.,  24.,  58.,  42.,  44.,  39.,  36.,  23.,  37.,  -1.,\n",
       "        62.,  33.,  55.,  47.,  60.,  52.,  66.,  61.,  49.,  51.,  63.,\n",
       "        65.,  59.,  67.,  72., 190.,  70.])"
      ]
     },
     "execution_count": 28,
     "metadata": {},
     "output_type": "execute_result"
    }
   ],
   "source": [
    "diab_clean['Age'].unique()"
   ]
  },
  {
   "cell_type": "markdown",
   "metadata": {},
   "source": [
    "Some additional filtering may be required considering we have entries with zero (or -1) values. We will consider to be invalid entries with age = -1 or above 130, as well as the ones with zero blood pressure, skin thickness, or BMI."
   ]
  },
  {
   "cell_type": "code",
   "execution_count": 29,
   "metadata": {},
   "outputs": [],
   "source": [
    "diab_clean = diab_clean[(diab_clean[\"Age\"] >= 0) & \n",
    "                        (diab_clean[\"Age\"] < 130) & \n",
    "                    (diab_clean[\"BloodPressure\"] > 0) & \n",
    "                    (diab_clean[\"SkinThickness\"] > 0) & \n",
    "                    (diab_clean[\"BMI\"] > 0)]"
   ]
  },
  {
   "cell_type": "code",
   "execution_count": 30,
   "metadata": {},
   "outputs": [
    {
     "name": "stdout",
     "output_type": "stream",
     "text": [
      "Number of remaining rows: 354\n"
     ]
    },
    {
     "data": {
      "image/png": "[encoded data removed]",
      "text/plain": [
       "<Figure size 1080x360 with 8 Axes>"
      ]
     },
     "metadata": {
      "needs_background": "light"
     },
     "output_type": "display_data"
    }
   ],
   "source": [
    "print('Number of remaining rows:', len(diab_clean))\n",
    "col_list = list(diab_clean)[:-1]\n",
    "\n",
    "plt.figure(figsize=(15,5))\n",
    "\n",
    "for ind, col in enumerate(col_list):\n",
    "    plt.subplot(2, 4, ind + 1)\n",
    "    plt.hist(diab_clean[col], bins = 40)\n",
    "    plt.xlabel(col)\n",
    "    plt.grid(linestyle = \"-\")\n",
    "    plt.tight_layout()"
   ]
  },
  {
   "cell_type": "markdown",
   "metadata": {},
   "source": [
    "Now, we'll have a look at the distributions for both outcomes using our final filtered dataset, as well as check if our dataset is balanced (comparable number of positive and negative outcomes):"
   ]
  },
  {
   "cell_type": "code",
   "execution_count": 31,
   "metadata": {},
   "outputs": [
    {
     "name": "stdout",
     "output_type": "stream",
     "text": [
      "# of entries with Outcome = True: 122\n",
      "# of entries with Outcome = True: 232\n",
      "Feature distributions by Outcome (left = False, right = True)\n"
     ]
    },
    {
     "data": {
      "image/png": "[encoded data removed]",
      "text/plain": [
       "<Figure size 1080x1980 with 16 Axes>"
      ]
     },
     "metadata": {
      "needs_background": "light"
     },
     "output_type": "display_data"
    }
   ],
   "source": [
    "df_outcome_true = diab_clean[diab_clean['Outcome'] == True]\n",
    "df_outcome_false = diab_clean[diab_clean['Outcome'] == False]\n",
    "\n",
    "print('# of entries with Outcome = True:', len(df_outcome_true))\n",
    "print('# of entries with Outcome = True:', len(df_outcome_false))\n",
    "\n",
    "col_list = list(diab_clean)[:-1]\n",
    "plt.figure(figsize=(15, 5*5.5))\n",
    "print('Feature distributions by Outcome (left = False, right = True)')\n",
    "\n",
    "for ind, col in enumerate(col_list):\n",
    "    plt.subplot(len(col_list), 2, 2 * ind + 1)\n",
    "    plt.hist(df_outcome_true[col], bins = 40)\n",
    "    plt.xlabel(col)\n",
    "    plt.grid(linestyle = \"-\")\n",
    "\n",
    "    plt.subplot(len(col_list), 2, 2 * ind + 2)\n",
    "    plt.hist(df_outcome_false[col], bins = 40)\n",
    "    plt.xlabel(col)\n",
    "    plt.grid(linestyle = \"-\")"
   ]
  },
  {
   "cell_type": "markdown",
   "metadata": {},
   "source": [
    "Finally, a quick look at the correlations between different features:"
   ]
  },
  {
   "cell_type": "code",
   "execution_count": 32,
   "metadata": {},
   "outputs": [
    {
     "data": {
      "text/html": [
       "<style  type=\"text/css\" >\n",
       "    #T_8135b29c_03c7_11ec_b28b_01be9dd0621drow0_col0 {\n",
       "            background-color:  #b40426;\n",
       "            color:  #f1f1f1;\n",
       "        }    #T_8135b29c_03c7_11ec_b28b_01be9dd0621drow0_col1 {\n",
       "            background-color:  #3b4cc0;\n",
       "            color:  #f1f1f1;\n",
       "        }    #T_8135b29c_03c7_11ec_b28b_01be9dd0621drow0_col2 {\n",
       "            background-color:  #6180e9;\n",
       "            color:  #000000;\n",
       "        }    #T_8135b29c_03c7_11ec_b28b_01be9dd0621drow0_col3 {\n",
       "            background-color:  #3b4cc0;\n",
       "            color:  #f1f1f1;\n",
       "        }    #T_8135b29c_03c7_11ec_b28b_01be9dd0621drow0_col4 {\n",
       "            background-color:  #3b4cc0;\n",
       "            color:  #f1f1f1;\n",
       "        }    #T_8135b29c_03c7_11ec_b28b_01be9dd0621drow0_col5 {\n",
       "            background-color:  #3b4cc0;\n",
       "            color:  #f1f1f1;\n",
       "        }    #T_8135b29c_03c7_11ec_b28b_01be9dd0621drow0_col6 {\n",
       "            background-color:  #3b4cc0;\n",
       "            color:  #f1f1f1;\n",
       "        }    #T_8135b29c_03c7_11ec_b28b_01be9dd0621drow0_col7 {\n",
       "            background-color:  #f3c7b1;\n",
       "            color:  #000000;\n",
       "        }    #T_8135b29c_03c7_11ec_b28b_01be9dd0621drow1_col0 {\n",
       "            background-color:  #5e7de7;\n",
       "            color:  #000000;\n",
       "        }    #T_8135b29c_03c7_11ec_b28b_01be9dd0621drow1_col1 {\n",
       "            background-color:  #b40426;\n",
       "            color:  #f1f1f1;\n",
       "        }    #T_8135b29c_03c7_11ec_b28b_01be9dd0621drow1_col2 {\n",
       "            background-color:  #7a9df8;\n",
       "            color:  #000000;\n",
       "        }    #T_8135b29c_03c7_11ec_b28b_01be9dd0621drow1_col3 {\n",
       "            background-color:  #7699f6;\n",
       "            color:  #000000;\n",
       "        }    #T_8135b29c_03c7_11ec_b28b_01be9dd0621drow1_col4 {\n",
       "            background-color:  #d1dae9;\n",
       "            color:  #000000;\n",
       "        }    #T_8135b29c_03c7_11ec_b28b_01be9dd0621drow1_col5 {\n",
       "            background-color:  #96b7ff;\n",
       "            color:  #000000;\n",
       "        }    #T_8135b29c_03c7_11ec_b28b_01be9dd0621drow1_col6 {\n",
       "            background-color:  #6485ec;\n",
       "            color:  #000000;\n",
       "        }    #T_8135b29c_03c7_11ec_b28b_01be9dd0621drow1_col7 {\n",
       "            background-color:  #7da0f9;\n",
       "            color:  #000000;\n",
       "        }    #T_8135b29c_03c7_11ec_b28b_01be9dd0621drow2_col0 {\n",
       "            background-color:  #6f92f3;\n",
       "            color:  #000000;\n",
       "        }    #T_8135b29c_03c7_11ec_b28b_01be9dd0621drow2_col1 {\n",
       "            background-color:  #6485ec;\n",
       "            color:  #000000;\n",
       "        }    #T_8135b29c_03c7_11ec_b28b_01be9dd0621drow2_col2 {\n",
       "            background-color:  #b40426;\n",
       "            color:  #f1f1f1;\n",
       "        }    #T_8135b29c_03c7_11ec_b28b_01be9dd0621drow2_col3 {\n",
       "            background-color:  #7295f4;\n",
       "            color:  #000000;\n",
       "        }    #T_8135b29c_03c7_11ec_b28b_01be9dd0621drow2_col4 {\n",
       "            background-color:  #506bda;\n",
       "            color:  #000000;\n",
       "        }    #T_8135b29c_03c7_11ec_b28b_01be9dd0621drow2_col5 {\n",
       "            background-color:  #b3cdfb;\n",
       "            color:  #000000;\n",
       "        }    #T_8135b29c_03c7_11ec_b28b_01be9dd0621drow2_col6 {\n",
       "            background-color:  #3e51c5;\n",
       "            color:  #f1f1f1;\n",
       "        }    #T_8135b29c_03c7_11ec_b28b_01be9dd0621drow2_col7 {\n",
       "            background-color:  #9bbcff;\n",
       "            color:  #000000;\n",
       "        }    #T_8135b29c_03c7_11ec_b28b_01be9dd0621drow3_col0 {\n",
       "            background-color:  #4e68d8;\n",
       "            color:  #000000;\n",
       "        }    #T_8135b29c_03c7_11ec_b28b_01be9dd0621drow3_col1 {\n",
       "            background-color:  #6485ec;\n",
       "            color:  #000000;\n",
       "        }    #T_8135b29c_03c7_11ec_b28b_01be9dd0621drow3_col2 {\n",
       "            background-color:  #7699f6;\n",
       "            color:  #000000;\n",
       "        }    #T_8135b29c_03c7_11ec_b28b_01be9dd0621drow3_col3 {\n",
       "            background-color:  #b40426;\n",
       "            color:  #f1f1f1;\n",
       "        }    #T_8135b29c_03c7_11ec_b28b_01be9dd0621drow3_col4 {\n",
       "            background-color:  #5b7ae5;\n",
       "            color:  #000000;\n",
       "        }    #T_8135b29c_03c7_11ec_b28b_01be9dd0621drow3_col5 {\n",
       "            background-color:  #f5c2aa;\n",
       "            color:  #000000;\n",
       "        }    #T_8135b29c_03c7_11ec_b28b_01be9dd0621drow3_col6 {\n",
       "            background-color:  #6384eb;\n",
       "            color:  #000000;\n",
       "        }    #T_8135b29c_03c7_11ec_b28b_01be9dd0621drow3_col7 {\n",
       "            background-color:  #5875e1;\n",
       "            color:  #000000;\n",
       "        }    #T_8135b29c_03c7_11ec_b28b_01be9dd0621drow4_col0 {\n",
       "            background-color:  #4055c8;\n",
       "            color:  #f1f1f1;\n",
       "        }    #T_8135b29c_03c7_11ec_b28b_01be9dd0621drow4_col1 {\n",
       "            background-color:  #bed2f6;\n",
       "            color:  #000000;\n",
       "        }    #T_8135b29c_03c7_11ec_b28b_01be9dd0621drow4_col2 {\n",
       "            background-color:  #485fd1;\n",
       "            color:  #f1f1f1;\n",
       "        }    #T_8135b29c_03c7_11ec_b28b_01be9dd0621drow4_col3 {\n",
       "            background-color:  #4f69d9;\n",
       "            color:  #000000;\n",
       "        }    #T_8135b29c_03c7_11ec_b28b_01be9dd0621drow4_col4 {\n",
       "            background-color:  #b40426;\n",
       "            color:  #f1f1f1;\n",
       "        }    #T_8135b29c_03c7_11ec_b28b_01be9dd0621drow4_col5 {\n",
       "            background-color:  #7ea1fa;\n",
       "            color:  #000000;\n",
       "        }    #T_8135b29c_03c7_11ec_b28b_01be9dd0621drow4_col6 {\n",
       "            background-color:  #536edd;\n",
       "            color:  #000000;\n",
       "        }    #T_8135b29c_03c7_11ec_b28b_01be9dd0621drow4_col7 {\n",
       "            background-color:  #3b4cc0;\n",
       "            color:  #f1f1f1;\n",
       "        }    #T_8135b29c_03c7_11ec_b28b_01be9dd0621drow5_col0 {\n",
       "            background-color:  #3b4cc0;\n",
       "            color:  #f1f1f1;\n",
       "        }    #T_8135b29c_03c7_11ec_b28b_01be9dd0621drow5_col1 {\n",
       "            background-color:  #7396f5;\n",
       "            color:  #000000;\n",
       "        }    #T_8135b29c_03c7_11ec_b28b_01be9dd0621drow5_col2 {\n",
       "            background-color:  #a7c5fe;\n",
       "            color:  #000000;\n",
       "        }    #T_8135b29c_03c7_11ec_b28b_01be9dd0621drow5_col3 {\n",
       "            background-color:  #f2c9b4;\n",
       "            color:  #000000;\n",
       "        }    #T_8135b29c_03c7_11ec_b28b_01be9dd0621drow5_col4 {\n",
       "            background-color:  #799cf8;\n",
       "            color:  #000000;\n",
       "        }    #T_8135b29c_03c7_11ec_b28b_01be9dd0621drow5_col5 {\n",
       "            background-color:  #b40426;\n",
       "            color:  #f1f1f1;\n",
       "        }    #T_8135b29c_03c7_11ec_b28b_01be9dd0621drow5_col6 {\n",
       "            background-color:  #6a8bef;\n",
       "            color:  #000000;\n",
       "        }    #T_8135b29c_03c7_11ec_b28b_01be9dd0621drow5_col7 {\n",
       "            background-color:  #3e51c5;\n",
       "            color:  #f1f1f1;\n",
       "        }    #T_8135b29c_03c7_11ec_b28b_01be9dd0621drow6_col0 {\n",
       "            background-color:  #445acc;\n",
       "            color:  #f1f1f1;\n",
       "        }    #T_8135b29c_03c7_11ec_b28b_01be9dd0621drow6_col1 {\n",
       "            background-color:  #4a63d3;\n",
       "            color:  #f1f1f1;\n",
       "        }    #T_8135b29c_03c7_11ec_b28b_01be9dd0621drow6_col2 {\n",
       "            background-color:  #3b4cc0;\n",
       "            color:  #f1f1f1;\n",
       "        }    #T_8135b29c_03c7_11ec_b28b_01be9dd0621drow6_col3 {\n",
       "            background-color:  #5a78e4;\n",
       "            color:  #000000;\n",
       "        }    #T_8135b29c_03c7_11ec_b28b_01be9dd0621drow6_col4 {\n",
       "            background-color:  #5673e0;\n",
       "            color:  #000000;\n",
       "        }    #T_8135b29c_03c7_11ec_b28b_01be9dd0621drow6_col5 {\n",
       "            background-color:  #7396f5;\n",
       "            color:  #000000;\n",
       "        }    #T_8135b29c_03c7_11ec_b28b_01be9dd0621drow6_col6 {\n",
       "            background-color:  #b40426;\n",
       "            color:  #f1f1f1;\n",
       "        }    #T_8135b29c_03c7_11ec_b28b_01be9dd0621drow6_col7 {\n",
       "            background-color:  #4b64d5;\n",
       "            color:  #f1f1f1;\n",
       "        }    #T_8135b29c_03c7_11ec_b28b_01be9dd0621drow7_col0 {\n",
       "            background-color:  #f6bda2;\n",
       "            color:  #000000;\n",
       "        }    #T_8135b29c_03c7_11ec_b28b_01be9dd0621drow7_col1 {\n",
       "            background-color:  #7597f6;\n",
       "            color:  #000000;\n",
       "        }    #T_8135b29c_03c7_11ec_b28b_01be9dd0621drow7_col2 {\n",
       "            background-color:  #a6c4fe;\n",
       "            color:  #000000;\n",
       "        }    #T_8135b29c_03c7_11ec_b28b_01be9dd0621drow7_col3 {\n",
       "            background-color:  #5f7fe8;\n",
       "            color:  #000000;\n",
       "        }    #T_8135b29c_03c7_11ec_b28b_01be9dd0621drow7_col4 {\n",
       "            background-color:  #506bda;\n",
       "            color:  #000000;\n",
       "        }    #T_8135b29c_03c7_11ec_b28b_01be9dd0621drow7_col5 {\n",
       "            background-color:  #5a78e4;\n",
       "            color:  #000000;\n",
       "        }    #T_8135b29c_03c7_11ec_b28b_01be9dd0621drow7_col6 {\n",
       "            background-color:  #5d7ce6;\n",
       "            color:  #000000;\n",
       "        }    #T_8135b29c_03c7_11ec_b28b_01be9dd0621drow7_col7 {\n",
       "            background-color:  #b40426;\n",
       "            color:  #f1f1f1;\n",
       "        }</style><table id=\"T_8135b29c_03c7_11ec_b28b_01be9dd0621d\" ><thead>    <tr>        <th class=\"blank level0\" ></th>        <th class=\"col_heading level0 col0\" >Pregnancies</th>        <th class=\"col_heading level0 col1\" >Glucose</th>        <th class=\"col_heading level0 col2\" >BloodPressure</th>        <th class=\"col_heading level0 col3\" >SkinThickness</th>        <th class=\"col_heading level0 col4\" >Insulin</th>        <th class=\"col_heading level0 col5\" >BMI</th>        <th class=\"col_heading level0 col6\" >DiabetesPedigreeFunction</th>        <th class=\"col_heading level0 col7\" >Age</th>    </tr></thead><tbody>\n",
       "                <tr>\n",
       "                        <th id=\"T_8135b29c_03c7_11ec_b28b_01be9dd0621dlevel0_row0\" class=\"row_heading level0 row0\" >Pregnancies</th>\n",
       "                        <td id=\"T_8135b29c_03c7_11ec_b28b_01be9dd0621drow0_col0\" class=\"data row0 col0\" >1.000000</td>\n",
       "                        <td id=\"T_8135b29c_03c7_11ec_b28b_01be9dd0621drow0_col1\" class=\"data row0 col1\" >0.117077</td>\n",
       "                        <td id=\"T_8135b29c_03c7_11ec_b28b_01be9dd0621drow0_col2\" class=\"data row0 col2\" >0.167659</td>\n",
       "                        <td id=\"T_8135b29c_03c7_11ec_b28b_01be9dd0621drow0_col3\" class=\"data row0 col3\" >0.062767</td>\n",
       "                        <td id=\"T_8135b29c_03c7_11ec_b28b_01be9dd0621drow0_col4\" class=\"data row0 col4\" >0.019589</td>\n",
       "                        <td id=\"T_8135b29c_03c7_11ec_b28b_01be9dd0621drow0_col5\" class=\"data row0 col5\" >-0.000009</td>\n",
       "                        <td id=\"T_8135b29c_03c7_11ec_b28b_01be9dd0621drow0_col6\" class=\"data row0 col6\" >0.034403</td>\n",
       "                        <td id=\"T_8135b29c_03c7_11ec_b28b_01be9dd0621drow0_col7\" class=\"data row0 col7\" >0.649928</td>\n",
       "            </tr>\n",
       "            <tr>\n",
       "                        <th id=\"T_8135b29c_03c7_11ec_b28b_01be9dd0621dlevel0_row1\" class=\"row_heading level0 row1\" >Glucose</th>\n",
       "                        <td id=\"T_8135b29c_03c7_11ec_b28b_01be9dd0621drow1_col0\" class=\"data row1 col0\" >0.117077</td>\n",
       "                        <td id=\"T_8135b29c_03c7_11ec_b28b_01be9dd0621drow1_col1\" class=\"data row1 col1\" >1.000000</td>\n",
       "                        <td id=\"T_8135b29c_03c7_11ec_b28b_01be9dd0621drow1_col2\" class=\"data row1 col2\" >0.236385</td>\n",
       "                        <td id=\"T_8135b29c_03c7_11ec_b28b_01be9dd0621drow1_col3\" class=\"data row1 col3\" >0.237008</td>\n",
       "                        <td id=\"T_8135b29c_03c7_11ec_b28b_01be9dd0621drow1_col4\" class=\"data row1 col4\" >0.465349</td>\n",
       "                        <td id=\"T_8135b29c_03c7_11ec_b28b_01be9dd0621drow1_col5\" class=\"data row1 col5\" >0.274354</td>\n",
       "                        <td id=\"T_8135b29c_03c7_11ec_b28b_01be9dd0621drow1_col6\" class=\"data row1 col6\" >0.164613</td>\n",
       "                        <td id=\"T_8135b29c_03c7_11ec_b28b_01be9dd0621drow1_col7\" class=\"data row1 col7\" >0.276048</td>\n",
       "            </tr>\n",
       "            <tr>\n",
       "                        <th id=\"T_8135b29c_03c7_11ec_b28b_01be9dd0621dlevel0_row2\" class=\"row_heading level0 row2\" >BloodPressure</th>\n",
       "                        <td id=\"T_8135b29c_03c7_11ec_b28b_01be9dd0621drow2_col0\" class=\"data row2 col0\" >0.167659</td>\n",
       "                        <td id=\"T_8135b29c_03c7_11ec_b28b_01be9dd0621drow2_col1\" class=\"data row2 col1\" >0.236385</td>\n",
       "                        <td id=\"T_8135b29c_03c7_11ec_b28b_01be9dd0621drow2_col2\" class=\"data row2 col2\" >1.000000</td>\n",
       "                        <td id=\"T_8135b29c_03c7_11ec_b28b_01be9dd0621drow2_col3\" class=\"data row2 col3\" >0.226780</td>\n",
       "                        <td id=\"T_8135b29c_03c7_11ec_b28b_01be9dd0621drow2_col4\" class=\"data row2 col4\" >0.090184</td>\n",
       "                        <td id=\"T_8135b29c_03c7_11ec_b28b_01be9dd0621drow2_col5\" class=\"data row2 col5\" >0.359614</td>\n",
       "                        <td id=\"T_8135b29c_03c7_11ec_b28b_01be9dd0621drow2_col6\" class=\"data row2 col6\" >0.048977</td>\n",
       "                        <td id=\"T_8135b29c_03c7_11ec_b28b_01be9dd0621drow2_col7\" class=\"data row2 col7\" >0.354674</td>\n",
       "            </tr>\n",
       "            <tr>\n",
       "                        <th id=\"T_8135b29c_03c7_11ec_b28b_01be9dd0621dlevel0_row3\" class=\"row_heading level0 row3\" >SkinThickness</th>\n",
       "                        <td id=\"T_8135b29c_03c7_11ec_b28b_01be9dd0621drow3_col0\" class=\"data row3 col0\" >0.062767</td>\n",
       "                        <td id=\"T_8135b29c_03c7_11ec_b28b_01be9dd0621drow3_col1\" class=\"data row3 col1\" >0.237008</td>\n",
       "                        <td id=\"T_8135b29c_03c7_11ec_b28b_01be9dd0621drow3_col2\" class=\"data row3 col2\" >0.226780</td>\n",
       "                        <td id=\"T_8135b29c_03c7_11ec_b28b_01be9dd0621drow3_col3\" class=\"data row3 col3\" >1.000000</td>\n",
       "                        <td id=\"T_8135b29c_03c7_11ec_b28b_01be9dd0621drow3_col4\" class=\"data row3 col4\" >0.125952</td>\n",
       "                        <td id=\"T_8135b29c_03c7_11ec_b28b_01be9dd0621drow3_col5\" class=\"data row3 col5\" >0.632552</td>\n",
       "                        <td id=\"T_8135b29c_03c7_11ec_b28b_01be9dd0621drow3_col6\" class=\"data row3 col6\" >0.159956</td>\n",
       "                        <td id=\"T_8135b29c_03c7_11ec_b28b_01be9dd0621drow3_col7\" class=\"data row3 col7\" >0.175235</td>\n",
       "            </tr>\n",
       "            <tr>\n",
       "                        <th id=\"T_8135b29c_03c7_11ec_b28b_01be9dd0621dlevel0_row4\" class=\"row_heading level0 row4\" >Insulin</th>\n",
       "                        <td id=\"T_8135b29c_03c7_11ec_b28b_01be9dd0621drow4_col0\" class=\"data row4 col0\" >0.019589</td>\n",
       "                        <td id=\"T_8135b29c_03c7_11ec_b28b_01be9dd0621drow4_col1\" class=\"data row4 col1\" >0.465349</td>\n",
       "                        <td id=\"T_8135b29c_03c7_11ec_b28b_01be9dd0621drow4_col2\" class=\"data row4 col2\" >0.090184</td>\n",
       "                        <td id=\"T_8135b29c_03c7_11ec_b28b_01be9dd0621drow4_col3\" class=\"data row4 col3\" >0.125952</td>\n",
       "                        <td id=\"T_8135b29c_03c7_11ec_b28b_01be9dd0621drow4_col4\" class=\"data row4 col4\" >1.000000</td>\n",
       "                        <td id=\"T_8135b29c_03c7_11ec_b28b_01be9dd0621drow4_col5\" class=\"data row4 col5\" >0.210710</td>\n",
       "                        <td id=\"T_8135b29c_03c7_11ec_b28b_01be9dd0621drow4_col6\" class=\"data row4 col6\" >0.111114</td>\n",
       "                        <td id=\"T_8135b29c_03c7_11ec_b28b_01be9dd0621drow4_col7\" class=\"data row4 col7\" >0.089817</td>\n",
       "            </tr>\n",
       "            <tr>\n",
       "                        <th id=\"T_8135b29c_03c7_11ec_b28b_01be9dd0621dlevel0_row5\" class=\"row_heading level0 row5\" >BMI</th>\n",
       "                        <td id=\"T_8135b29c_03c7_11ec_b28b_01be9dd0621drow5_col0\" class=\"data row5 col0\" >-0.000009</td>\n",
       "                        <td id=\"T_8135b29c_03c7_11ec_b28b_01be9dd0621drow5_col1\" class=\"data row5 col1\" >0.274354</td>\n",
       "                        <td id=\"T_8135b29c_03c7_11ec_b28b_01be9dd0621drow5_col2\" class=\"data row5 col2\" >0.359614</td>\n",
       "                        <td id=\"T_8135b29c_03c7_11ec_b28b_01be9dd0621drow5_col3\" class=\"data row5 col3\" >0.632552</td>\n",
       "                        <td id=\"T_8135b29c_03c7_11ec_b28b_01be9dd0621drow5_col4\" class=\"data row5 col4\" >0.210710</td>\n",
       "                        <td id=\"T_8135b29c_03c7_11ec_b28b_01be9dd0621drow5_col5\" class=\"data row5 col5\" >1.000000</td>\n",
       "                        <td id=\"T_8135b29c_03c7_11ec_b28b_01be9dd0621drow5_col6\" class=\"data row5 col6\" >0.178674</td>\n",
       "                        <td id=\"T_8135b29c_03c7_11ec_b28b_01be9dd0621drow5_col7\" class=\"data row5 col7\" >0.102353</td>\n",
       "            </tr>\n",
       "            <tr>\n",
       "                        <th id=\"T_8135b29c_03c7_11ec_b28b_01be9dd0621dlevel0_row6\" class=\"row_heading level0 row6\" >DiabetesPedigreeFunction</th>\n",
       "                        <td id=\"T_8135b29c_03c7_11ec_b28b_01be9dd0621drow6_col0\" class=\"data row6 col0\" >0.034403</td>\n",
       "                        <td id=\"T_8135b29c_03c7_11ec_b28b_01be9dd0621drow6_col1\" class=\"data row6 col1\" >0.164613</td>\n",
       "                        <td id=\"T_8135b29c_03c7_11ec_b28b_01be9dd0621drow6_col2\" class=\"data row6 col2\" >0.048977</td>\n",
       "                        <td id=\"T_8135b29c_03c7_11ec_b28b_01be9dd0621drow6_col3\" class=\"data row6 col3\" >0.159956</td>\n",
       "                        <td id=\"T_8135b29c_03c7_11ec_b28b_01be9dd0621drow6_col4\" class=\"data row6 col4\" >0.111114</td>\n",
       "                        <td id=\"T_8135b29c_03c7_11ec_b28b_01be9dd0621drow6_col5\" class=\"data row6 col5\" >0.178674</td>\n",
       "                        <td id=\"T_8135b29c_03c7_11ec_b28b_01be9dd0621drow6_col6\" class=\"data row6 col6\" >1.000000</td>\n",
       "                        <td id=\"T_8135b29c_03c7_11ec_b28b_01be9dd0621drow6_col7\" class=\"data row6 col7\" >0.140015</td>\n",
       "            </tr>\n",
       "            <tr>\n",
       "                        <th id=\"T_8135b29c_03c7_11ec_b28b_01be9dd0621dlevel0_row7\" class=\"row_heading level0 row7\" >Age</th>\n",
       "                        <td id=\"T_8135b29c_03c7_11ec_b28b_01be9dd0621drow7_col0\" class=\"data row7 col0\" >0.649928</td>\n",
       "                        <td id=\"T_8135b29c_03c7_11ec_b28b_01be9dd0621drow7_col1\" class=\"data row7 col1\" >0.276048</td>\n",
       "                        <td id=\"T_8135b29c_03c7_11ec_b28b_01be9dd0621drow7_col2\" class=\"data row7 col2\" >0.354674</td>\n",
       "                        <td id=\"T_8135b29c_03c7_11ec_b28b_01be9dd0621drow7_col3\" class=\"data row7 col3\" >0.175235</td>\n",
       "                        <td id=\"T_8135b29c_03c7_11ec_b28b_01be9dd0621drow7_col4\" class=\"data row7 col4\" >0.089817</td>\n",
       "                        <td id=\"T_8135b29c_03c7_11ec_b28b_01be9dd0621drow7_col5\" class=\"data row7 col5\" >0.102353</td>\n",
       "                        <td id=\"T_8135b29c_03c7_11ec_b28b_01be9dd0621drow7_col6\" class=\"data row7 col6\" >0.140015</td>\n",
       "                        <td id=\"T_8135b29c_03c7_11ec_b28b_01be9dd0621drow7_col7\" class=\"data row7 col7\" >1.000000</td>\n",
       "            </tr>\n",
       "    </tbody></table>"
      ],
      "text/plain": [
       "<pandas.io.formats.style.Styler at 0x7fbf941774d0>"
      ]
     },
     "execution_count": 32,
     "metadata": {},
     "output_type": "execute_result"
    }
   ],
   "source": [
    "corr = diab_clean.iloc[:,0:-1].corr()\n",
    "corr.style.background_gradient(cmap = 'coolwarm')"
   ]
  },
  {
   "cell_type": "markdown",
   "metadata": {},
   "source": [
    "The strongest correltations are between:\n",
    "* BMI and skin thickness \n",
    "* Glucose and insulin\n",
    "* age and pregnancies\n",
    "\n",
    "While there is some potential collinearity concern, we'll keep all columns for now and proceed to the next stage - building and evaluating classifier models"
   ]
  },
  {
   "cell_type": "code",
   "execution_count": 33,
   "metadata": {},
   "outputs": [],
   "source": [
    "from sklearn.model_selection import train_test_split \n",
    "from sklearn.ensemble import RandomForestClassifier\n",
    "from sklearn.linear_model import LogisticRegression\n",
    "from sklearn.metrics import classification_report"
   ]
  },
  {
   "cell_type": "code",
   "execution_count": 34,
   "metadata": {},
   "outputs": [
    {
     "name": "stdout",
     "output_type": "stream",
     "text": [
      "Shape of the feature matrix: (354, 8)\n"
     ]
    }
   ],
   "source": [
    "Y = diab_clean['Outcome'].values\n",
    "X = diab_clean[col_list]\n",
    "X = (X - X.min()) / (X.max() - X.min())\n",
    "X = X.values\n",
    "print('Shape of the feature matrix:', X.shape)\n",
    "\n",
    "X_train, X_test, y_train, y_test = train_test_split(X, Y, test_size = 0.2)"
   ]
  },
  {
   "cell_type": "code",
   "execution_count": 35,
   "metadata": {},
   "outputs": [],
   "source": [
    "def train_and_predict(model, X_train, X_test, y_train, y_test):\n",
    "    \"\"\"\n",
    "    arguments: model, train data, test data\n",
    "    output: model's predictions on the test data\n",
    "    \"\"\"\n",
    "    model.fit(X_train , y_train)\n",
    "    return model.predict(X_test)\n",
    "\n",
    "def validate_predictions(true_labels, predicted_labels):\n",
    "    print(classification_report(y_test, predicted_labels, target_names = ['Outcome = 0', 'Outcome = 1']))\n",
    "\n",
    "model_list = [\n",
    "    RandomForestClassifier(n_estimators = 100),\n",
    "    LogisticRegression(multi_class = 'multinomial', max_iter = 100)]\n",
    "\n",
    "model_names = [\"Random forest\", \"Logistic regression\"]"
   ]
  },
  {
   "cell_type": "code",
   "execution_count": 36,
   "metadata": {},
   "outputs": [
    {
     "name": "stdout",
     "output_type": "stream",
     "text": [
      "-----------------------Random forest------------------------\n",
      "              precision    recall  f1-score   support\n",
      "\n",
      " Outcome = 0       0.81      0.83      0.82        52\n",
      " Outcome = 1       0.50      0.47      0.49        19\n",
      "\n",
      "    accuracy                           0.73        71\n",
      "   macro avg       0.66      0.65      0.65        71\n",
      "weighted avg       0.73      0.73      0.73        71\n",
      "\n",
      "--------------------Logistic regression---------------------\n",
      "              precision    recall  f1-score   support\n",
      "\n",
      " Outcome = 0       0.78      0.88      0.83        52\n",
      " Outcome = 1       0.50      0.32      0.39        19\n",
      "\n",
      "    accuracy                           0.73        71\n",
      "   macro avg       0.64      0.60      0.61        71\n",
      "weighted avg       0.70      0.73      0.71        71\n",
      "\n"
     ]
    }
   ],
   "source": [
    "for ind, model in enumerate(model_list):\n",
    "    print(model_names[ind].center(60, '-'))\n",
    "    predictions = train_and_predict(model_list[ind], X_train, X_test, y_train, y_test)\n",
    "    validate_predictions(y_test, predictions)"
   ]
  },
  {
   "cell_type": "markdown",
   "metadata": {},
   "source": [
    "### Discusssion\n",
    "\n",
    "Overall, both classifiers show comparable performance. Further performance improvements can be driven by:\n",
    "\n",
    "<div align=\"center\"> <b> Data </b> </div>\n",
    "\n",
    "1. Re-evaluating what constitutes bad data: e.g. in this analysis we didn't filter out rows with insulin value = 0\n",
    "\n",
    "2. Changing how we are handling null values. We've dropped all rows containint null values, an alternative option would be to replace nulls with column averages\n",
    "\n",
    "3. Focusing more on feature selection. There is some degree of collinearity in the original features. We did not alter input columns in any way (aside from normalization), another reasonable approach would be to employe PCA to address collinearity. Or just drop one of the highly correlated columns.\n",
    "\n",
    "4. Choosing a different way to normalize the data (or choosing not to normalize at all)\n",
    "    \n",
    "<div align=\"center\"> <b> Model choice & validation </b> </div>\n",
    "\n",
    "1. Given the nature of the dataset (small-scale tabular data), we have used simple logistic regression and random forest models. They are a safe default choice for such task, but there are plenty of other models to try (e.g. non-ensemble versions of decision tree-based classifiers, or k nearest neighbors)\n",
    "\n",
    "2. Hyperparameter tuning for the selected models (e.g. changing solvers, metrics, number of splits / iterations)\n",
    "\n",
    "3. We have used a simple train/test split, another option would be to use k fold cross-validation\n",
    "\n",
    "In the interest of time, we will explore only the following options:\n",
    "\n",
    "1. Applying PCA\n",
    "2. Changing how we are normalizing our data"
   ]
  },
  {
   "cell_type": "code",
   "execution_count": 37,
   "metadata": {},
   "outputs": [],
   "source": [
    "from sklearn.decomposition import PCA\n",
    "from sklearn.preprocessing import normalize"
   ]
  },
  {
   "cell_type": "code",
   "execution_count": 38,
   "metadata": {},
   "outputs": [
    {
     "name": "stdout",
     "output_type": "stream",
     "text": [
      "[0.3412478  0.30435348 0.18546254 0.0825591  0.03610652 0.02454927\n",
      " 0.01630168]  with total explained =  0.9905804009476269\n"
     ]
    }
   ],
   "source": [
    "X = diab_clean[col_list]\n",
    "Y = diab_clean['Outcome'].values\n",
    "\n",
    "X = normalize(X.values, axis = 0) #instead of the previously used X = (X - X.min()) / (X.max() - X.min())\n",
    "pca = PCA(n_components = 7).fit(X) # a conservative choice, we're going from 8 to 7 features\n",
    "print(pca.explained_variance_ratio_, ' with total explained = ', sum(pca.explained_variance_ratio_))"
   ]
  },
  {
   "cell_type": "code",
   "execution_count": 39,
   "metadata": {},
   "outputs": [
    {
     "name": "stdout",
     "output_type": "stream",
     "text": [
      "(354, 8)\n",
      "(354, 7)\n"
     ]
    }
   ],
   "source": [
    "print(X.shape)\n",
    "X = pca.transform(X)\n",
    "print(X.shape)"
   ]
  },
  {
   "cell_type": "code",
   "execution_count": 40,
   "metadata": {},
   "outputs": [],
   "source": [
    "X_train, X_test, y_train, y_test = train_test_split(X, Y, test_size = 0.2)"
   ]
  },
  {
   "cell_type": "code",
   "execution_count": 43,
   "metadata": {},
   "outputs": [
    {
     "name": "stdout",
     "output_type": "stream",
     "text": [
      "-----------------------Random forest------------------------\n",
      "              precision    recall  f1-score   support\n",
      "\n",
      " Outcome = 0       0.91      0.75      0.82        52\n",
      " Outcome = 1       0.54      0.79      0.64        19\n",
      "\n",
      "    accuracy                           0.76        71\n",
      "   macro avg       0.72      0.77      0.73        71\n",
      "weighted avg       0.81      0.76      0.77        71\n",
      "\n",
      "--------------------Logistic regression---------------------\n",
      "              precision    recall  f1-score   support\n",
      "\n",
      " Outcome = 0       0.95      0.77      0.85        52\n",
      " Outcome = 1       0.59      0.89      0.71        19\n",
      "\n",
      "    accuracy                           0.80        71\n",
      "   macro avg       0.77      0.83      0.78        71\n",
      "weighted avg       0.85      0.80      0.81        71\n",
      "\n"
     ]
    }
   ],
   "source": [
    "for ind, model in enumerate(model_list):\n",
    "    print(model_names[ind].center(60, '-'))\n",
    "    predictions = train_and_predict(model_list[0], X_train, X_test, y_train, y_test)\n",
    "    validate_predictions(y_test, predictions)"
   ]
  },
  {
   "cell_type": "markdown",
   "metadata": {},
   "source": [
    "Overall, our new approach seems to have some potential (however please keep in mind that we haven't fixed random seed, so the results vary from run to run). A more thorough exploration of all previously mentioned options would likely result in further performance improvements."
   ]
  }
 ],
 "metadata": {
  "kernelspec": {
   "display_name": "Python 3",
   "language": "python",
   "name": "python3"
  },
  "language_info": {
   "codemirror_mode": {
    "name": "ipython",
    "version": 3
   },
   "file_extension": ".py",
   "mimetype": "text/x-python",
   "name": "python",
   "nbconvert_exporter": "python",
   "pygments_lexer": "ipython3",
   "version": "3.7.5"
  }
 },
 "nbformat": 4,
 "nbformat_minor": 4
}
